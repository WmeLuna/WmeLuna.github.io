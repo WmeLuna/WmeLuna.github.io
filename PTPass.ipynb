{
  "nbformat": 4,
  "nbformat_minor": 0,
  "metadata": {
    "colab": {
      "name": "Untitled107.ipynb",
      "provenance": []
    },
    "kernelspec": {
      "name": "python3",
      "display_name": "Python 3"
    },
    "language_info": {
      "name": "python"
    }
  },
  "cells": [
    {
      "cell_type": "code",
      "source": [
        "#@title <center> Theme\n",
        "from IPython.display import HTML, display, clear_output\n",
        "def set_css():\n",
        "  display(HTML('''\n",
        "  <style>\n",
        "    @import url('https://wmeluna.com/colab.css');\n",
        "  </style>\n",
        "  '''))\n",
        "get_ipython().events.register('pre_run_cell', set_css)\n",
        "clear_output()"
      ],
      "metadata": {
        "cellView": "form",
        "id": "74-otFb49-5S"
      },
      "execution_count": 1,
      "outputs": []
    },
    {
      "cell_type": "code",
      "source": [
        "#@title <center> Setup\n",
        "!sudo apt-get install -y libz-dev libre2-dev libcrypto++6 libcrypto++-utils libcrypto++-dev libcrypto++-doc libcrypto++6-dbg > /dev/null 2>&1 \n",
        "!pip install xmltodict > /dev/null 2>&1\n",
        "!sudo ln -s /usr/lib/x86_64-linux-gnu/libz.a /usr/lib/libz.a > /dev/null 2>&1\n",
        "!sudo ln -s /usr/lib/x86_64-linux-gnu/libre2.a /usr/local/lib/libre2.a > /dev/null 2>&1\n",
        "!sudo ln -s /usr/lib/x86_64-linux-gnu/libcrypto++.a /usr/local/lib/libcryptopp.a > /dev/null 2>&1\n",
        "!git clone https://github.com/mircodezorzi/pka2xml.git > /dev/null 2>&1 \n",
        "!cd pka2xml && make static-install > /dev/null 2>&1 \n",
        "clear_output()"
      ],
      "metadata": {
        "cellView": "form",
        "id": "iqk5eIwFbCxP"
      },
      "execution_count": 2,
      "outputs": []
    },
    {
      "cell_type": "code",
      "execution_count": 3,
      "metadata": {
        "cellView": "form",
        "id": "p2UQ6X4MIaEi"
      },
      "outputs": [],
      "source": [
        "#@title <center> Upload\n",
        "from google.colab import files\n",
        "import re\n",
        "uploaded = files.upload()\n",
        "clear_output()"
      ]
    },
    {
      "cell_type": "code",
      "source": [
        "#@title <center> Output\n",
        "for fn in uploaded.keys():\n",
        "  #print(uploaded[fn])\n",
        "  efn = re.escape(fn)\n",
        "  cmd = \"pka2xml -d \" + efn + \" out.xml\"\n",
        "  !{cmd}\n",
        "  !cat out.xml | grep \"<PASS>\" |sed -e 's/<[^>]*>//g' | sed -e 's/^[ \\t]*//' | head -n1\n"
      ],
      "metadata": {
        "cellView": "form",
        "id": "RgQOx6FdI6JQ"
      },
      "execution_count": null,
      "outputs": []
    }
  ]
}